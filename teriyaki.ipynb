{
 "cells": [
  {
   "cell_type": "markdown",
   "metadata": {},
   "source": [
    "# Hello world"
   ]
  },
  {
   "cell_type": "code",
   "execution_count": 30,
   "metadata": {},
   "outputs": [
    {
     "name": "stdout",
     "output_type": "stream",
     "text": [
      "\n",
      "\n",
      "Apple Chicken:\n",
      "\n",
      "1. Preheat oven to 375 degrees.\n",
      "2. Coat chicken in flour.\n",
      "3. Place chicken in baking dish.\n",
      "4. Cut up apples into thin slices and place on top of chicken.\n",
      "5. Sprinkle with salt.\n",
      "6. Bake for 30-\n"
     ]
    }
   ],
   "source": [
    "import os\n",
    "import openai\n",
    "\n",
    "def GPT_Completion(texts):## Call the API key under your account (in a secure way)\n",
    "    openai.api_key = \"***REMOVED***\"\n",
    "\n",
    "    response = openai.Completion.create(engine=\"text-davinci-002\",\n",
    "                                        prompt =  texts,\n",
    "                                        temperature = 0.6,\n",
    "                                        top_p = 1,\n",
    "                                        max_tokens = 64,\n",
    "                                        frequency_penalty = 0,\n",
    "                                        presence_penalty = 0)\n",
    "    return print(response.choices[0].text)\n",
    "\n",
    "recipe = 'Provide a cooking recipe based on the following ingredients: \\\\n \\nApple \\\n",
    "          \\n \\nFlour \\\n",
    "          \\n \\nChicken \\\n",
    "          \\n \\nSalt'\n",
    "\n",
    "GPT_Completion(recipe)"
   ]
  },
  {
   "cell_type": "markdown",
   "metadata": {},
   "source": [
    "# Generate training dataset"
   ]
  },
  {
   "cell_type": "markdown",
   "metadata": {},
   "source": [
    "## Generate problems"
   ]
  },
  {
   "cell_type": "code",
   "execution_count": 3,
   "metadata": {},
   "outputs": [
    {
     "name": "stdout",
     "output_type": "stream",
     "text": [
      "Writing conditional problem files to /home/alessio/planning/teriyaki/generator/problems/conditional...\n",
      "Done.\n",
      "All operations completed. Happy planning!\n",
      "40 duplicates deleted\n"
     ]
    }
   ],
   "source": [
    "import os\n",
    "import filecmp\n",
    "\n",
    "## cleaning work directories \n",
    "!rm dataset/problems/\\* &> /dev/null\n",
    "!rm dataset/plans/\\* &> /dev/null\n",
    "!rm dataset/plans_ipc/\\* &> /dev/null\n",
    "!rm dataset/formatted/\\* &> /dev/null\n",
    "\n",
    "## 8000 data points should improve performance between 2x and 4x\n",
    "%run generator/pddl_confgen.py 4 9000 -r 24 -co\n",
    "!mv -v generator/problems/conditional/* dataset/problems > /dev/null\n",
    "\n",
    "## clean duplicates\n",
    "\n",
    "problems = sorted(os.listdir('./dataset/problems/'))\n",
    "\n",
    "duplicates = 0\n",
    "to_be_removed = []\n",
    "\n",
    "for i, problem_i in enumerate(problems):\n",
    "    print(\"Cleaning --- \" + str(round((i / len(problems) * 100), 1)) +\"%\", end = '\\r')\n",
    "    for problem_j in problems[i + 1:]:\n",
    "        if filecmp.cmp('./dataset/problems/' + problem_i, \n",
    "                       './dataset/problems/' + problem_j, \n",
    "                       shallow=False):\n",
    "            duplicates += 1\n",
    "            to_be_removed.append(problem_j)\n",
    "            \n",
    "for problem in to_be_removed:\n",
    "    try:\n",
    "        os.remove('./dataset/problems/' + problem)\n",
    "    except FileNotFoundError:\n",
    "        continue\n",
    "            \n",
    "print(str(duplicates) + \" duplicates deleted\")"
   ]
  },
  {
   "cell_type": "markdown",
   "metadata": {},
   "source": [
    "## Generate plans with Probe"
   ]
  },
  {
   "cell_type": "code",
   "execution_count": null,
   "metadata": {},
   "outputs": [
    {
     "name": "stdout",
     "output_type": "stream",
     "text": [
      "Planning --- 1.5%\r"
     ]
    }
   ],
   "source": [
    "import os\n",
    "import subprocess\n",
    "\n",
    "problems = sorted(os.listdir('./dataset/problems/'))\n",
    "\n",
    "\n",
    "for i, problem in enumerate(problems):\n",
    "    \n",
    "    result = subprocess.run(['./generator/probe', \n",
    "                             '-d', './dataset/domains/domain_m_25_B.pddl', \n",
    "                             '-i', './dataset/problems/' + problem,\n",
    "                             '-o', './dataset/plans/m_25_B-' + str(problem.split('_',2)[2:][0])], \n",
    "                             stdout=subprocess.PIPE)\n",
    "    print(\"Planning --- \" + str(round((i / len(problems) * 100), 1)) +\"%\", end = '\\r')\n",
    "    \n",
    "#     # temporarly limit to 400 samples\n",
    "#     if i > 500: break\n",
    "\n",
    "print(\"Planning complete\")"
   ]
  },
  {
   "cell_type": "markdown",
   "metadata": {},
   "source": [
    "## Convert Probe plans to IPC format"
   ]
  },
  {
   "cell_type": "code",
   "execution_count": 7,
   "metadata": {},
   "outputs": [
    {
     "name": "stdout",
     "output_type": "stream",
     "text": [
      "Plans converted to IPC format\n"
     ]
    }
   ],
   "source": [
    "import os\n",
    "\n",
    "plans = sorted(os.listdir('./dataset/plans/'))\n",
    "\n",
    "for plan in plans:\n",
    "    probe = open('./dataset/plans/' + plan, \"r\")\n",
    "    val = open('./dataset/plans_ipc/' + plan.split(\".\")[0] + \".plan\", 'w+')\n",
    "    replacement = \"\"\n",
    "    # using the for loop\n",
    "    action_timing = 1\n",
    "    for line in probe:\n",
    "        line = line.lower()\n",
    "        line = '%.3f' % (action_timing / 1000) + \"00: \" + line\n",
    "        val.write(line)\n",
    "        action_timing += 2\n",
    "\n",
    "    probe.close()\n",
    "    val.close()\n",
    "    \n",
    "print(\"Plans converted to IPC format\")"
   ]
  },
  {
   "cell_type": "markdown",
   "metadata": {},
   "source": [
    "## Validate and remove invalid plans using VAL Validate\n",
    "This step takes a lot of time and usually all plans are validated. **It can be skipped**."
   ]
  },
  {
   "cell_type": "code",
   "execution_count": 8,
   "metadata": {},
   "outputs": [
    {
     "name": "stdout",
     "output_type": "stream",
     "text": [
      "0 plans could not be validated and have been removed from the dataset\n"
     ]
    }
   ],
   "source": [
    "import os\n",
    "import subprocess\n",
    "\n",
    "plans = sorted(os.listdir('./dataset/plans_ipc/'))\n",
    "invalid_plans = 0\n",
    "\n",
    "for i, plan in enumerate(plans):\n",
    "    result = subprocess.run(['./generator/Validate', \n",
    "                             './dataset/domains/domain_m_25_B.pddl', \n",
    "                             './dataset/problems/problem_conditional_' + plan.split(\"-\")[1].split(\".\")[0] + \".pddl\",\n",
    "                             './dataset/plans_ipc/' + plan], \n",
    "                             stdout=subprocess.PIPE)\n",
    "    if \"Plan failed to execute\" in str(result):\n",
    "        invalid_plans += 1\n",
    "#         os.remove('./dataset/plans_ipc/m_25_B-' + problem.split('_',2)[2:][0].split(\".\")[0] + \".plan\")\n",
    "#         os.remove('./dataset/problems/' + problem)\n",
    "\n",
    "    print(\"Validating --- \" + str(round((i / len(plans) * 100), 1)) +\"%\", end = '\\r')\n",
    "\n",
    "print('%i plans could not be validated and have been removed from the dataset' % invalid_plans)"
   ]
  },
  {
   "cell_type": "markdown",
   "metadata": {},
   "source": [
    "## Sort problem & plans in batch folders"
   ]
  },
  {
   "cell_type": "code",
   "execution_count": null,
   "metadata": {},
   "outputs": [],
   "source": [
    "import os\n",
    "import shutil\n",
    "\n",
    "## cleaning work directories \n",
    "!rm dataset/batches/500/problems/\\* &> /dev/null\n",
    "!rm dataset/batches/500/plans/\\* &> /dev/null\n",
    "!rm dataset/batches/1000/problems/\\* &> /dev/null\n",
    "!rm dataset/batches/1000/plans/\\* &> /dev/null\n",
    "!rm dataset/batches/2000/problems/\\* &> /dev/null\n",
    "!rm dataset/batches/2000/plans/\\* &> /dev/null\n",
    "!rm dataset/batches/4000/problems/\\* &> /dev/null\n",
    "!rm dataset/batches/4000/plans/\\* &> /dev/null\n",
    "!rm dataset/batches/8000/problems/\\* &> /dev/null\n",
    "!rm dataset/batches/8000/plans/\\* &> /dev/null\n",
    "!rm dataset/batches/validation/problems/\\* &> /dev/null\n",
    "!rm dataset/batches/validation/plans/\\* &> /dev/null\n",
    "\n",
    "## fetching and sorting problems and plans\n",
    "\n",
    "problems = sorted(os.listdir('./dataset/problems/'))\n",
    "plans = sorted(os.listdir('./dataset/plans_ipc/'))\n",
    "\n",
    "for i, plan in enumerate(plans):\n",
    "    if i < 500:\n",
    "        shutil.copy2('./dataset/problems/' + problems[i], 'dataset/batches/500/problems/')\n",
    "        shutil.copy2('./dataset/plans_ipc/' + plans[i], 'dataset/batches/500/plans/')\n",
    "    if i < 1000:\n",
    "        shutil.copy2('./dataset/problems/' + problems[i], 'dataset/batches/1000/problems/')\n",
    "        shutil.copy2('./dataset/plans_ipc/' + plans[i], 'dataset/batches/1000/plans/')\n",
    "    if i < 2000:\n",
    "        shutil.copy2('./dataset/problems/' + problems[i], 'dataset/batches/2000/problems/')\n",
    "        shutil.copy2('./dataset/plans_ipc/' + plans[i], 'dataset/batches/2000/plans/')\n",
    "    if i < 4000:\n",
    "        shutil.copy2('./dataset/problems/' + problems[i], 'dataset/batches/4000/problems/')\n",
    "        shutil.copy2('./dataset/plans_ipc/' + plans[i], 'dataset/batches/4000/plans/')\n",
    "    if i < 8000:\n",
    "        shutil.copy2('./dataset/problems/' + problems[i], 'dataset/batches/8000/problems/')\n",
    "        shutil.copy2('./dataset/plans_ipc/' + plans[i], 'dataset/batches/8000/plans/')\n",
    "    else:\n",
    "        shutil.copy2('./dataset/problems/' + problems[i], 'dataset/batches/validation/problems/')\n",
    "        shutil.copy2('./dataset/plans_ipc/' + plans[i], 'dataset/batches/validation/plans/')\n",
    "\n",
    "print('All problems and plans have been sorted into batches.')"
   ]
  },
  {
   "cell_type": "markdown",
   "metadata": {},
   "source": [
    "## Compile GPT3 training datasets\n",
    "\n",
    "This step will compile `jsonl` for all training batches. Later you can use each of them to increment the fine tuning dataset size progressively.\n",
    "\n",
    "Unfortunately, before use you need to manually run in a terminal the following line for each of them:\n",
    "\n",
    "```>openai tools fine_tunes.prepare_data -f './dataset/batch/[YOUR_BATCH]/teriyaki.jsonl```\n",
    "\n",
    "=====================================================\n",
    "\n",
    "TODO: `joint3)\\n)\\n)\\n` is seen as part of the prompt\n",
    "\n",
    "From the documentation regarding conditional generation:\n",
    "* Use a separator at the end of the prompt, e.g. \\n\\n###\\n\\n. Remember to also append this separator when you eventually make requests to your model.\n",
    "* Use an ending token at the end of the completion, e.g. END\n",
    "* Remember to add the ending token as a stop sequence during inference, e.g. stop=[\" END\"]\n",
    "\n",
    "Example:\n",
    "```{\"prompt\":\"<Product Name>\\n<Wikipedia description>\\n\\n###\\n\\n\", \"completion\":\" <engaging ad> END\"}```"
   ]
  },
  {
   "cell_type": "code",
   "execution_count": 21,
   "metadata": {},
   "outputs": [
    {
     "name": "stdout",
     "output_type": "stream",
     "text": [
      "Dataset ready!\n",
      "Before training, run in a terminal\n",
      "\t>openai tools fine_tunes.prepare_data -f './dataset/formatted/teriyaki.jsonl'\n"
     ]
    }
   ],
   "source": [
    "import os\n",
    "import subprocess\n",
    "\n",
    "batches = [\"500\", \"1000\", \"2000\", \"4000\", \"8000\", \"validation\"]\n",
    "\n",
    "for batch in batches:\n",
    "    dataset = open('./dataset/batch/' + batch + '/teriyaki.jsonl', 'w+')\n",
    "    plans = sorted(os.listdir('./dataset/' + batch + '/plans/'))\n",
    "\n",
    "    # extracting prompts from problems and completions from IPC plans \n",
    "    for i, plan in enumerate(plans):\n",
    "        plan_f = open('./dataset/' + batch + '/plans/' + plan, \"r\")\n",
    "        problem_f = open('./dataset/' + batch + '/problems/problem_conditional_' + plan.split(\"-\")[1].split(\".\")[0] + \".pddl\", \"r\")\n",
    "        lines = problem_f.readlines()\n",
    "\n",
    "        # lines[49:62] is the range of meaningful predicates at initial state\n",
    "        dataset.write(repr('{\"prompt\":\"\\n(:init\\n' + ''.join(lines[49:-1]).replace(\"    \", \"\") + \n",
    "              '\\n\\n###\\n\\n\", \"completion\":\" ' + plan_f.read().replace(\"    \", \"\") + ' END\"}')[1:-1] + \"\\n\")\n",
    "\n",
    "    dataset.close()\n",
    "\n",
    "print(\"Datasets ready!\")\n",
    "print(\"Before training, run in a terminal\\n\\t>openai tools fine_tunes.prepare_data -f './dataset/batch/[YOUR_BATCH]/teriyaki.jsonl'\")"
   ]
  },
  {
   "cell_type": "markdown",
   "metadata": {},
   "source": [
    "## Compute training cost\n",
    "`1 token ~= 4 chars\n",
    "0.0300$/1K Tokens`\n",
    "\n",
    "In practice it is ~15$ per 1000 samples for this specific planning domain"
   ]
  },
  {
   "cell_type": "code",
   "execution_count": 22,
   "metadata": {},
   "outputs": [
    {
     "name": "stdout",
     "output_type": "stream",
     "text": [
      "Training this dataset will consume about 164945.75 tokens for an estimated cost of 4.95$\n"
     ]
    }
   ],
   "source": [
    "import os\n",
    "\n",
    "dataset = open('./dataset/formatted/teriyaki.jsonl', 'r')\n",
    "chars = len(dataset.read())\n",
    "dataset.close()\n",
    "tokens = chars / 4\n",
    "cost = tokens * 0.00003\n",
    "\n",
    "print(\"Training this dataset will consume about {0} tokens for an estimated cost of {1}$\".format(tokens, round(cost,2)))"
   ]
  },
  {
   "cell_type": "markdown",
   "metadata": {},
   "source": [
    "## Creating a fine-tuned model!\n",
    "\n",
    "### <ins>RUN ONCE</ins>\n",
    "\n",
    "### Last model\n",
    "Model: **ft-dVpnKEC46BV9odOlRsGLO7nd** - **davinci:ft-personal-2022-08-18-17-42-22**\n",
    "\n",
    "### Dataset \n",
    "From the documentation regarding conditional generation:\n",
    "* Aim for at least ~500 examples\n",
    "* Ensure that the prompt + completion doesn't exceed 2048 tokens, including the separator\n",
    "* Ensure the examples are of high quality and follow the same desired format\n",
    "* Ensure that the dataset used for finetuning is very similar in structure and type of task as what the model will be used for\n",
    "* Using Lower learning rate and only 1-2 epochs tends to work better for these use cases\n",
    "\n",
    "LEARN MORE ABOUT VALIDATION, DELETING, AND SUFFIX @ \n",
    "\n",
    "https://beta.openai.com/docs/guides/fine-tuning/advanced-usage\n",
    "\n",
    "https://beta.openai.com/docs/api-reference/fine-tunes\n",
    "\n",
    "### Training hyperparameters\n",
    "* `model` use `'davinci'` or `'code-davinci-002'` (CODEX, not yet supported)\n",
    "* `n_epochs` defaults to 4. The number of epochs to train the model for. An epoch refers to one full cycle through the training dataset. For generative use cases 2 epochs is generally better.\n",
    "* `batch_size` defaults to ~0.2% of the number of examples in the training set, capped at 256. Larger batch sizes tend to work better for larger datasets.\n",
    "* `learning_rate_multiplier`defaults to 0.05, 0.1, or 0.2 depending on final `batch_size`. We recommend experimenting with values in the range 0.02 to 0.2. Larger learning rates often perform better with larger batch sizes.\n",
    "* `compute_classification_metrics`defaults to False. If True, for fine-tuning for classification tasks, computes classification-specific metrics (accuracy, F-1 score, etc) on the validation set at the end of every epoch."
   ]
  },
  {
   "cell_type": "code",
   "execution_count": null,
   "metadata": {
    "scrolled": true
   },
   "outputs": [],
   "source": [
    "import os\n",
    "import openai\n",
    "import requests\n",
    "\n",
    "!openai -k ***REMOVED*** \\\n",
    "api fine_tunes.create -t './dataset/formatted/teriyaki.jsonl' \\ \n",
    "                      -v './dataset/formatted/teriyaki.jsonl' \\\n",
    "                      -m 'davinci' --suffix \"teriyaki-001\" --n_epochs 2 \n",
    "\n",
    "# Save results\n",
    "\n",
    "OPENAI_API_KEY = \"***REMOVED***\"\n",
    "\n",
    "headers = {\n",
    "    'Authorization': f'Bearer {OPENAI_API_KEY}',\n",
    "}\n",
    "\n",
    "response = requests.get('https://api.openai.com/v1/files/$RESULTS_FILE_ID/content', headers=headers)\n",
    "\n",
    "##SAVE TO FILE\n"
   ]
  },
  {
   "cell_type": "markdown",
   "metadata": {},
   "source": [
    "## Further tuning\n",
    "\n",
    "### <ins>Insert previous model and run in order for each batch at most once!</ins>\n",
    "\n",
    "Last run is in **bold**\n",
    "\n",
    "* **1000**\n",
    "* 2000\n",
    "* 4000\n",
    "* 8000\n",
    "\n",
    "Not our case, but...\n",
    "\n",
    "```if your new training data is much smaller than your previous training data, you may find it useful to reduce learning_rate_multiplier by a factor of 2 to 4.```\n",
    "\n",
    "### Last results"
   ]
  },
  {
   "cell_type": "code",
   "execution_count": null,
   "metadata": {},
   "outputs": [],
   "source": [
    "import os\n",
    "import openai\n",
    "import requests\n",
    "\n",
    "!openai -k ***REMOVED*** \\\n",
    "api fine_tunes.create -t './dataset/formatted/teriyaki.jsonl' -m 'davinci:ft-[INSERT]' --suffix \"teriyaki-001\" --n_epochs 2"
   ]
  },
  {
   "cell_type": "markdown",
   "metadata": {},
   "source": [
    "## Test it!"
   ]
  },
  {
   "cell_type": "code",
   "execution_count": 9,
   "metadata": {
    "scrolled": true
   },
   "outputs": [
    {
     "name": "stdout",
     "output_type": "stream",
     "text": [
      " 0.00100: (release-links link2 link1 joint1 gleft gright)\n",
      "0.00200: (link-to-central-grasp link2 link1 joint3 joint1 gleft gright)\n",
      "0.00300: (decrease_angle_first_child link2 link1 joint1 angle0 angle345 gleft gright)\n",
      "0.00400: (decrease_angle_first_child link2 link1 joint1 angle345 angle330 gleft gright)\n",
      "0.00500: (decrease_angle_first_child link2 link1 joint1 angle330 angle315 gleft gright)\n",
      "0.00600: (release-links link2 link1 joint1 gleft gright)\n",
      "0.00700: (link-to-central-grasp link3 link2 joint1 joint2 gleft gright)\n",
      "0.00800: (increase_angle_first_child_45 link3 link2 joint2 angle270 angle285 angle300 angle315 gleft gright)\n",
      "0.00900: (release-links link3 link2 joint2 gleft gright)\n",
      "0.01000: (link-to-central-grasp link4 link3 joint2 joint3 gleft gright)\n",
      "0.01100: (decrease_angle_first_child link4 link3 joint3 angle345 angle330 gleft gright)\n",
      "0.01200: (decrease_angle_first_child link4 link3 joint3 angle330 angle315 gleft gright)\n",
      " \n"
     ]
    }
   ],
   "source": [
    "import os\n",
    "import openai\n",
    "\n",
    "def GPT_Completion(texts):## Call the API key under your account (in a secure way)\n",
    "    openai.api_key = \"***REMOVED***\"\n",
    "\n",
    "    response = openai.Completion.create(engine=\"davinci:ft-personal-2022-08-18-17-42-22\",\n",
    "                                        prompt =  texts,\n",
    "                                        top_p = 1,       # modify ONLY top_p or temperature, not both       \n",
    "                                        temperature = 0, # argmax\n",
    "                                        max_tokens = 400,\n",
    "                                        presence_penalty = 0, # -2 < x < 2, negative favors repetitions\n",
    "                                        frequency_penalty = 0,\n",
    "                                        # best_of = 4, # 3-5 work well for code completion\n",
    "                                        stop = \"END\")\n",
    "    return print(response.choices[0].text)\n",
    "\n",
    "problem = '(:init\\n(angle_joint angle0 joint1)\\n(angle_joint angle345 joint2)\\n(angle_joint angle0 joint3)\\n(in-centre joint3)\\n(in-hand link1)\\n(in-hand link2)\\n(grasp gleft link1)\\n(grasp gright link2))\\n(:goal(and\\n(angle_joint angle285 joint1)\\n(angle_joint angle285 joint2)\\n(angle_joint angle315 joint3)\\n)\\n)\\n)\\n\\n\\n###\\n\\n'\n",
    "\n",
    "GPT_Completion(problem)"
   ]
  },
  {
   "cell_type": "markdown",
   "metadata": {},
   "source": [
    "## Run extended tests on the dataset\n",
    "Plan with Teriyaki for all available problems and run VAL Validate\n",
    "\n",
    "It reports:\n",
    "* success rate\n",
    "* min, max, avg and standard deviation of planning times\n",
    "* average number of actions before Teryiaki makes a mistake"
   ]
  },
  {
   "cell_type": "code",
   "execution_count": null,
   "metadata": {},
   "outputs": [],
   "source": [
    "import os\n",
    "import openai\n",
    "\n",
    "def GPT_Completion(texts):## Call the API key under your account (in a secure way)\n",
    "    openai.api_key = \"***REMOVED***\"\n",
    "\n",
    "    response = openai.Completion.create(engine=\"davinci:ft-personal-2022-08-18-17-42-22\",\n",
    "                                        prompt =  texts,\n",
    "                                        top_p = 1,       # modify ONLY top_p or temperature, not both       \n",
    "                                        temperature = 0, # argmax\n",
    "                                        max_tokens = 400,\n",
    "                                        presence_penalty = 0, # -2 < x < 2, negative favors repetitions\n",
    "                                        frequency_penalty = 0,\n",
    "                                        # best_of = 4, # 3-5 work well for code completion\n",
    "                                        stop = \"END\")\n",
    "    return print(response.choices[0].text)\n",
    "\n"
   ]
  },
  {
   "cell_type": "markdown",
   "metadata": {},
   "source": [
    "## Iterative planning trick\n",
    "* Try to plan only N actions \n",
    "* Use VAL **ValStep** to simulate the outcomes of said actions and save it to a problem file\n",
    "* Replan using the new problem file\n",
    "* Iterate until goal state is reached"
   ]
  },
  {
   "cell_type": "code",
   "execution_count": null,
   "metadata": {},
   "outputs": [],
   "source": []
  }
 ],
 "metadata": {
  "kernelspec": {
   "display_name": "Python 3 (ipykernel)",
   "language": "python",
   "name": "python3"
  },
  "language_info": {
   "codemirror_mode": {
    "name": "ipython",
    "version": 3
   },
   "file_extension": ".py",
   "mimetype": "text/x-python",
   "name": "python",
   "nbconvert_exporter": "python",
   "pygments_lexer": "ipython3",
   "version": "3.8.10"
  }
 },
 "nbformat": 4,
 "nbformat_minor": 2
}
